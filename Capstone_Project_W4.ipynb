{
 "cells": [
  {
   "cell_type": "markdown",
   "metadata": {},
   "source": [
    "# Capstone Project - The Battle of Neighborhoods (Week 1)"
   ]
  },
  {
   "cell_type": "markdown",
   "metadata": {},
   "source": [
    "## Section 1: Introduction/Business Problem"
   ]
  },
  {
   "cell_type": "markdown",
   "metadata": {},
   "source": [
    "### There is a visitor who plan to visit Manhattan, NY. This visitor loves eating different kinds of food and wants to try different variaty of foods from different countries/cultures. Before he starts his trip, he wants to do his own research on the most authentic restaurants with best quality located in Manhattan Island. "
   ]
  },
  {
   "cell_type": "markdown",
   "metadata": {},
   "source": [
    "### He wants to first learn more about the geographical distribution of different types of restaurant. For example, most authentic Chinese restaurants would be concentrated in \"Chinatown\" area; most traditional Italian restaurants would be located in \"Little Italy\". Knowing these information would help him make wise choices. He also check the customer rating of restaurants after his initial decision to finalize his choice."
   ]
  },
  {
   "cell_type": "markdown",
   "metadata": {},
   "source": [
    "### Finding the best restaurant is our mission and our recommendation system will provide this vistor with a list of related restaurants located in featured area (most popular location of a specific type of restaurant) in Manhattan."
   ]
  },
  {
   "cell_type": "markdown",
   "metadata": {},
   "source": [
    "## Section 2: Data "
   ]
  },
  {
   "cell_type": "markdown",
   "metadata": {},
   "source": [
    "### The information for each restaurant is collected form \"Foursquare\". Since the interested city is Manhattan, NY, all restaurants located in the Manhattan Island is extracted. "
   ]
  },
  {
   "cell_type": "markdown",
   "metadata": {},
   "source": [
    "### The basic information for each restaurant includes the name of restaurant, the venue ID of restaurant, the latitude and longtitude of restaurant, and zip code of restaurant. After gathering the basic information, we know the basic statistics of restaurant types and zip code. These information allow us to identify the most located area for a specific type of restaurant. In other words, we know that this type of restaurants is mostly located in this zip code. "
   ]
  },
  {
   "cell_type": "markdown",
   "metadata": {},
   "source": [
    "### To give the best possible recommondation for a type of restaurant, we pick one with a selected zip code. This restaurant should be one of the most authentic one by type. Next, we use the venue ID of restaurant to extract information about the quality of food, customer rating. The advanced information assists the visitor's decision making. "
   ]
  },
  {
   "cell_type": "markdown",
   "metadata": {},
   "source": [
    "### Some important request from Foursquare are: [postalCode] [Venue ID] [Venue Latitude] [Venue Longitude] [Venue Name] [Venue Category] [rating]"
   ]
  },
  {
   "cell_type": "markdown",
   "metadata": {},
   "source": []
  },
  {
   "cell_type": "code",
   "execution_count": null,
   "metadata": {},
   "outputs": [],
   "source": []
  }
 ],
 "metadata": {
  "kernelspec": {
   "display_name": "Python 3",
   "language": "python",
   "name": "python3"
  },
  "language_info": {
   "codemirror_mode": {
    "name": "ipython",
    "version": 3
   },
   "file_extension": ".py",
   "mimetype": "text/x-python",
   "name": "python",
   "nbconvert_exporter": "python",
   "pygments_lexer": "ipython3",
   "version": "3.7.0"
  }
 },
 "nbformat": 4,
 "nbformat_minor": 2
}
