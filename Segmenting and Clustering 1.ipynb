{
 "cells": [
  {
   "cell_type": "code",
   "execution_count": 1,
   "metadata": {},
   "outputs": [],
   "source": [
    "import pandas as pd\n",
    "import numpy as np\n",
    "from bs4 import BeautifulSoup\n",
    "import requests"
   ]
  },
  {
   "cell_type": "code",
   "execution_count": 2,
   "metadata": {},
   "outputs": [],
   "source": [
    "page= requests.get('https://en.wikipedia.org/wiki/List_of_postal_codes_of_Canada:_M').text\n",
    "soup = BeautifulSoup(page,'xml')\n",
    "table = soup.find('table')\n"
   ]
  },
  {
   "cell_type": "code",
   "execution_count": 3,
   "metadata": {},
   "outputs": [],
   "source": [
    "Postcode = []\n",
    "Borough = []\n",
    "Neighborhood = []\n",
    "\n",
    "for tr in table.find_all('tr'):\n",
    "    counter = 1\n",
    "    var1 = -1\n",
    "    var2 = -1\n",
    "    var3 = -1\n",
    "    \n",
    "    for td in tr.find_all('td'):\n",
    "        if counter == 1: \n",
    "            var1 = td.text\n",
    "        if counter == 2: \n",
    "            var2 = td.text\n",
    "            tag2 = td.find('a')\n",
    "        if counter == 3: \n",
    "            var3 = str(td.text).strip()\n",
    "            tag3 = td.find('a')          \n",
    "        counter +=1\n",
    "\n",
    "    if(var2 == -1 or var2 == \"Not assigned\"):\n",
    "        continue\n",
    "        \n",
    "    if var3 == 'Not assigned':\n",
    "        var3 = var2 \n",
    "    else:\n",
    "        var3 = var3\n",
    "        \n",
    "    Postcode.append(var1)\n",
    "    Borough.append(var2)\n",
    "    Neighborhood.append(var3)\n",
    "\n",
    "#print(Postcode)\n",
    "#print(Borough)\n",
    "#print(Neighborhood)"
   ]
  },
  {
   "cell_type": "code",
   "execution_count": 4,
   "metadata": {},
   "outputs": [
    {
     "name": "stdout",
     "output_type": "stream",
     "text": [
      "Unique postcode: 103\n"
     ]
    }
   ],
   "source": [
    "n_postcode = set(Postcode)\n",
    "print('Unique postcode:', len(n_postcode))\n",
    "Postcode2 = []\n",
    "Borough2 = []\n",
    "Neighborhood2 = []\n",
    "\n",
    "for pc in n_postcode:\n",
    "    var1 = ''; var2 = ''; var3 = ''; \n",
    "    for index, element in enumerate(Postcode):\n",
    "        if pc == element:\n",
    "            var1 = element;\n",
    "            var2 = Borough[index]\n",
    "            if var3 == '': \n",
    "                var3 = Neighborhood[index]\n",
    "            else:\n",
    "                var3 = var3 + ', ' + Neighborhood[index]\n",
    "    Postcode2.append(var1)\n",
    "    Borough2.append(var2)\n",
    "    Neighborhood2.append(var3)"
   ]
  },
  {
   "cell_type": "code",
   "execution_count": 5,
   "metadata": {},
   "outputs": [
    {
     "data": {
      "text/html": [
       "<div>\n",
       "<style scoped>\n",
       "    .dataframe tbody tr th:only-of-type {\n",
       "        vertical-align: middle;\n",
       "    }\n",
       "\n",
       "    .dataframe tbody tr th {\n",
       "        vertical-align: top;\n",
       "    }\n",
       "\n",
       "    .dataframe thead th {\n",
       "        text-align: right;\n",
       "    }\n",
       "</style>\n",
       "<table border=\"1\" class=\"dataframe\">\n",
       "  <thead>\n",
       "    <tr style=\"text-align: right;\">\n",
       "      <th></th>\n",
       "      <th>Postcode</th>\n",
       "      <th>Borough</th>\n",
       "      <th>Neighborhood</th>\n",
       "    </tr>\n",
       "  </thead>\n",
       "  <tbody>\n",
       "    <tr>\n",
       "      <th>0</th>\n",
       "      <td>M4L</td>\n",
       "      <td>East Toronto</td>\n",
       "      <td>The Beaches West, India Bazaar</td>\n",
       "    </tr>\n",
       "    <tr>\n",
       "      <th>1</th>\n",
       "      <td>M4E</td>\n",
       "      <td>East Toronto</td>\n",
       "      <td>The Beaches</td>\n",
       "    </tr>\n",
       "    <tr>\n",
       "      <th>2</th>\n",
       "      <td>M4T</td>\n",
       "      <td>Central Toronto</td>\n",
       "      <td>Moore Park, Summerhill East</td>\n",
       "    </tr>\n",
       "    <tr>\n",
       "      <th>3</th>\n",
       "      <td>M6S</td>\n",
       "      <td>West Toronto</td>\n",
       "      <td>Runnymede, Swansea</td>\n",
       "    </tr>\n",
       "    <tr>\n",
       "      <th>4</th>\n",
       "      <td>M9M</td>\n",
       "      <td>North York</td>\n",
       "      <td>Emery, Humberlea</td>\n",
       "    </tr>\n",
       "    <tr>\n",
       "      <th>5</th>\n",
       "      <td>M5M</td>\n",
       "      <td>North York</td>\n",
       "      <td>Bedford Park, Lawrence Manor East</td>\n",
       "    </tr>\n",
       "    <tr>\n",
       "      <th>6</th>\n",
       "      <td>M1E</td>\n",
       "      <td>Scarborough</td>\n",
       "      <td>Guildwood, Morningside, West Hill</td>\n",
       "    </tr>\n",
       "    <tr>\n",
       "      <th>7</th>\n",
       "      <td>M4K</td>\n",
       "      <td>East Toronto</td>\n",
       "      <td>The Danforth West, Riverdale</td>\n",
       "    </tr>\n",
       "    <tr>\n",
       "      <th>8</th>\n",
       "      <td>M6R</td>\n",
       "      <td>West Toronto</td>\n",
       "      <td>Parkdale, Roncesvalles</td>\n",
       "    </tr>\n",
       "    <tr>\n",
       "      <th>9</th>\n",
       "      <td>M4V</td>\n",
       "      <td>Central Toronto</td>\n",
       "      <td>Deer Park, Forest Hill SE, Rathnelly, South Hi...</td>\n",
       "    </tr>\n",
       "    <tr>\n",
       "      <th>10</th>\n",
       "      <td>M4C</td>\n",
       "      <td>East York</td>\n",
       "      <td>Woodbine Heights</td>\n",
       "    </tr>\n",
       "  </tbody>\n",
       "</table>\n",
       "</div>"
      ],
      "text/plain": [
       "   Postcode          Borough  \\\n",
       "0       M4L     East Toronto   \n",
       "1       M4E     East Toronto   \n",
       "2       M4T  Central Toronto   \n",
       "3       M6S     West Toronto   \n",
       "4       M9M       North York   \n",
       "5       M5M       North York   \n",
       "6       M1E      Scarborough   \n",
       "7       M4K     East Toronto   \n",
       "8       M6R     West Toronto   \n",
       "9       M4V  Central Toronto   \n",
       "10      M4C        East York   \n",
       "\n",
       "                                         Neighborhood  \n",
       "0                      The Beaches West, India Bazaar  \n",
       "1                                         The Beaches  \n",
       "2                         Moore Park, Summerhill East  \n",
       "3                                  Runnymede, Swansea  \n",
       "4                                    Emery, Humberlea  \n",
       "5                   Bedford Park, Lawrence Manor East  \n",
       "6                   Guildwood, Morningside, West Hill  \n",
       "7                        The Danforth West, Riverdale  \n",
       "8                              Parkdale, Roncesvalles  \n",
       "9   Deer Park, Forest Hill SE, Rathnelly, South Hi...  \n",
       "10                                   Woodbine Heights  "
      ]
     },
     "execution_count": 5,
     "metadata": {},
     "output_type": "execute_result"
    }
   ],
   "source": [
    "dic = {'Postcode':Postcode2, 'Borough':Borough2, 'Neighborhood':Neighborhood2}\n",
    "df_toronto = pd.DataFrame.from_dict(dic)\n",
    "df_toronto.to_csv('df_toronto.csv')\n",
    "df_toronto.head(11)"
   ]
  },
  {
   "cell_type": "code",
   "execution_count": 6,
   "metadata": {},
   "outputs": [
    {
     "data": {
      "text/plain": [
       "(103, 3)"
      ]
     },
     "execution_count": 6,
     "metadata": {},
     "output_type": "execute_result"
    }
   ],
   "source": [
    "df_toronto.shape"
   ]
  },
  {
   "cell_type": "code",
   "execution_count": null,
   "metadata": {},
   "outputs": [],
   "source": []
  }
 ],
 "metadata": {
  "kernelspec": {
   "display_name": "Python 3",
   "language": "python",
   "name": "python3"
  },
  "language_info": {
   "codemirror_mode": {
    "name": "ipython",
    "version": 3
   },
   "file_extension": ".py",
   "mimetype": "text/x-python",
   "name": "python",
   "nbconvert_exporter": "python",
   "pygments_lexer": "ipython3",
   "version": "3.7.0"
  }
 },
 "nbformat": 4,
 "nbformat_minor": 2
}
