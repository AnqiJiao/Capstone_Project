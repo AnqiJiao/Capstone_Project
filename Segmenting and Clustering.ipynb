{
 "cells": [
  {
   "cell_type": "code",
   "execution_count": 1,
   "metadata": {},
   "outputs": [],
   "source": [
    "import pandas as pd\n",
    "import numpy as np\n",
    "from bs4 import BeautifulSoup\n",
    "import requests"
   ]
  },
  {
   "cell_type": "code",
   "execution_count": 2,
   "metadata": {},
   "outputs": [],
   "source": [
    "page= requests.get('https://en.wikipedia.org/wiki/List_of_postal_codes_of_Canada:_M').text\n",
    "soup = BeautifulSoup(page,'xml')\n",
    "table = soup.find('table')\n"
   ]
  },
  {
   "cell_type": "code",
   "execution_count": 3,
   "metadata": {},
   "outputs": [
    {
     "name": "stdout",
     "output_type": "stream",
     "text": [
      "['M3A', 'M4A', 'M5A', 'M5A', 'M6A', 'M6A', 'M7A', 'M9A', 'M1B', 'M1B', 'M3B', 'M4B', 'M4B', 'M5B', 'M5B', 'M6B', 'M9B', 'M9B', 'M9B', 'M9B', 'M9B', 'M1C', 'M1C', 'M1C', 'M3C', 'M3C', 'M4C', 'M5C', 'M6C', 'M9C', 'M9C', 'M9C', 'M9C', 'M1E', 'M1E', 'M1E', 'M4E', 'M5E', 'M6E', 'M1G', 'M4G', 'M5G', 'M6G', 'M1H', 'M2H', 'M3H', 'M3H', 'M3H', 'M4H', 'M5H', 'M5H', 'M5H', 'M6H', 'M6H', 'M1J', 'M2J', 'M2J', 'M2J', 'M3J', 'M3J', 'M4J', 'M5J', 'M5J', 'M5J', 'M6J', 'M6J', 'M1K', 'M1K', 'M1K', 'M2K', 'M3K', 'M3K', 'M4K', 'M4K', 'M5K', 'M5K', 'M6K', 'M6K', 'M6K', 'M1L', 'M1L', 'M1L', 'M2L', 'M2L', 'M3L', 'M4L', 'M4L', 'M5L', 'M5L', 'M6L', 'M6L', 'M6L', 'M9L', 'M1M', 'M1M', 'M1M', 'M2M', 'M2M', 'M3M', 'M4M', 'M5M', 'M5M', 'M6M', 'M6M', 'M6M', 'M6M', 'M9M', 'M9M', 'M1N', 'M1N', 'M2N', 'M3N', 'M4N', 'M5N', 'M6N', 'M6N', 'M9N', 'M1P', 'M1P', 'M1P', 'M2P', 'M4P', 'M5P', 'M5P', 'M6P', 'M6P', 'M9P', 'M1R', 'M1R', 'M2R', 'M4R', 'M5R', 'M5R', 'M5R', 'M6R', 'M6R', 'M7R', 'M9R', 'M9R', 'M9R', 'M9R', 'M1S', 'M4S', 'M5S', 'M5S', 'M6S', 'M6S', 'M1T', 'M1T', 'M1T', 'M4T', 'M4T', 'M5T', 'M5T', 'M5T', 'M1V', 'M1V', 'M1V', 'M1V', 'M4V', 'M4V', 'M4V', 'M4V', 'M4V', 'M5V', 'M5V', 'M5V', 'M5V', 'M5V', 'M5V', 'M5V', 'M8V', 'M8V', 'M8V', 'M9V', 'M9V', 'M9V', 'M9V', 'M9V', 'M9V', 'M9V', 'M9V', 'M1W', 'M1W', 'M4W', 'M5W', 'M8W', 'M8W', 'M9W', 'M1X', 'M4X', 'M4X', 'M5X', 'M5X', 'M8X', 'M8X', 'M8X', 'M4Y', 'M7Y', 'M8Y', 'M8Y', 'M8Y', 'M8Y', 'M8Y', 'M8Y', 'M8Y', 'M8Y', 'M8Z', 'M8Z', 'M8Z', 'M8Z', 'M8Z']\n",
      "['North York', 'North York', 'Downtown Toronto', 'Downtown Toronto', 'North York', 'North York', \"Queen's Park\", 'Etobicoke', 'Scarborough', 'Scarborough', 'North York', 'East York', 'East York', 'Downtown Toronto', 'Downtown Toronto', 'North York', 'Etobicoke', 'Etobicoke', 'Etobicoke', 'Etobicoke', 'Etobicoke', 'Scarborough', 'Scarborough', 'Scarborough', 'North York', 'North York', 'East York', 'Downtown Toronto', 'York', 'Etobicoke', 'Etobicoke', 'Etobicoke', 'Etobicoke', 'Scarborough', 'Scarborough', 'Scarborough', 'East Toronto', 'Downtown Toronto', 'York', 'Scarborough', 'East York', 'Downtown Toronto', 'Downtown Toronto', 'Scarborough', 'North York', 'North York', 'North York', 'North York', 'East York', 'Downtown Toronto', 'Downtown Toronto', 'Downtown Toronto', 'West Toronto', 'West Toronto', 'Scarborough', 'North York', 'North York', 'North York', 'North York', 'North York', 'East York', 'Downtown Toronto', 'Downtown Toronto', 'Downtown Toronto', 'West Toronto', 'West Toronto', 'Scarborough', 'Scarborough', 'Scarborough', 'North York', 'North York', 'North York', 'East Toronto', 'East Toronto', 'Downtown Toronto', 'Downtown Toronto', 'West Toronto', 'West Toronto', 'West Toronto', 'Scarborough', 'Scarborough', 'Scarborough', 'North York', 'North York', 'North York', 'East Toronto', 'East Toronto', 'Downtown Toronto', 'Downtown Toronto', 'North York', 'North York', 'North York', 'North York', 'Scarborough', 'Scarborough', 'Scarborough', 'North York', 'North York', 'North York', 'East Toronto', 'North York', 'North York', 'York', 'York', 'York', 'York', 'North York', 'North York', 'Scarborough', 'Scarborough', 'North York', 'North York', 'Central Toronto', 'Central Toronto', 'York', 'York', 'York', 'Scarborough', 'Scarborough', 'Scarborough', 'North York', 'Central Toronto', 'Central Toronto', 'Central Toronto', 'West Toronto', 'West Toronto', 'Etobicoke', 'Scarborough', 'Scarborough', 'North York', 'Central Toronto', 'Central Toronto', 'Central Toronto', 'Central Toronto', 'West Toronto', 'West Toronto', 'Mississauga', 'Etobicoke', 'Etobicoke', 'Etobicoke', 'Etobicoke', 'Scarborough', 'Central Toronto', 'Downtown Toronto', 'Downtown Toronto', 'West Toronto', 'West Toronto', 'Scarborough', 'Scarborough', 'Scarborough', 'Central Toronto', 'Central Toronto', 'Downtown Toronto', 'Downtown Toronto', 'Downtown Toronto', 'Scarborough', 'Scarborough', 'Scarborough', 'Scarborough', 'Central Toronto', 'Central Toronto', 'Central Toronto', 'Central Toronto', 'Central Toronto', 'Downtown Toronto', 'Downtown Toronto', 'Downtown Toronto', 'Downtown Toronto', 'Downtown Toronto', 'Downtown Toronto', 'Downtown Toronto', 'Etobicoke', 'Etobicoke', 'Etobicoke', 'Etobicoke', 'Etobicoke', 'Etobicoke', 'Etobicoke', 'Etobicoke', 'Etobicoke', 'Etobicoke', 'Etobicoke', 'Scarborough', 'Scarborough', 'Downtown Toronto', 'Downtown Toronto', 'Etobicoke', 'Etobicoke', 'Etobicoke', 'Scarborough', 'Downtown Toronto', 'Downtown Toronto', 'Downtown Toronto', 'Downtown Toronto', 'Etobicoke', 'Etobicoke', 'Etobicoke', 'Downtown Toronto', 'East Toronto', 'Etobicoke', 'Etobicoke', 'Etobicoke', 'Etobicoke', 'Etobicoke', 'Etobicoke', 'Etobicoke', 'Etobicoke', 'Etobicoke', 'Etobicoke', 'Etobicoke', 'Etobicoke', 'Etobicoke']\n",
      "['Parkwoods', 'Victoria Village', 'Harbourfront', 'Regent Park', 'Lawrence Heights', 'Lawrence Manor', \"Queen's Park\", 'Islington Avenue', 'Rouge', 'Malvern', 'Don Mills North', 'Woodbine Gardens', 'Parkview Hill', 'Ryerson', 'Garden District', 'Glencairn', 'Cloverdale', 'Islington', 'Martin Grove', 'Princess Gardens', 'West Deane Park', 'Highland Creek', 'Rouge Hill', 'Port Union', 'Flemingdon Park', 'Don Mills South', 'Woodbine Heights', 'St. James Town', 'Humewood-Cedarvale', 'Bloordale Gardens', 'Eringate', 'Markland Wood', 'Old Burnhamthorpe', 'Guildwood', 'Morningside', 'West Hill', 'The Beaches', 'Berczy Park', 'Caledonia-Fairbanks', 'Woburn', 'Leaside', 'Central Bay Street', 'Christie', 'Cedarbrae', 'Hillcrest Village', 'Bathurst Manor', 'Downsview North', 'Wilson Heights', 'Thorncliffe Park', 'Adelaide', 'King', 'Richmond', 'Dovercourt Village', 'Dufferin', 'Scarborough Village', 'Fairview', 'Henry Farm', 'Oriole', 'Northwood Park', 'York University', 'East Toronto', 'Harbourfront East', 'Toronto Islands', 'Union Station', 'Little Portugal', 'Trinity', 'East Birchmount Park', 'Ionview', 'Kennedy Park', 'Bayview Village', 'CFB Toronto', 'Downsview East', 'The Danforth West', 'Riverdale', 'Design Exchange', 'Toronto Dominion Centre', 'Brockton', 'Exhibition Place', 'Parkdale Village', 'Clairlea', 'Golden Mile', 'Oakridge', 'Silver Hills', 'York Mills', 'Downsview West', 'The Beaches West', 'India Bazaar', 'Commerce Court', 'Victoria Hotel', 'Maple Leaf Park', 'North Park', 'Upwood Park', 'Humber Summit', 'Cliffcrest', 'Cliffside', 'Scarborough Village West', 'Newtonbrook', 'Willowdale', 'Downsview Central', 'Studio District', 'Bedford Park', 'Lawrence Manor East', 'Del Ray', 'Keelesdale', 'Mount Dennis', 'Silverthorn', 'Emery', 'Humberlea', 'Birch Cliff', 'Cliffside West', 'Willowdale South', 'Downsview Northwest', 'Lawrence Park', 'Roselawn', 'The Junction North', 'Runnymede', 'Weston', 'Dorset Park', 'Scarborough Town Centre', 'Wexford Heights', 'York Mills West', 'Davisville North', 'Forest Hill North', 'Forest Hill West', 'High Park', 'The Junction South', 'Westmount', 'Maryvale', 'Wexford', 'Willowdale West', 'North Toronto West', 'The Annex', 'North Midtown', 'Yorkville', 'Parkdale', 'Roncesvalles', 'Canada Post Gateway Processing Centre', 'Kingsview Village', 'Martin Grove Gardens', 'Richview Gardens', 'St. Phillips', 'Agincourt', 'Davisville', 'Harbord', 'University of Toronto', 'Runnymede', 'Swansea', 'Clarks Corners', 'Sullivan', \"Tam O'Shanter\", 'Moore Park', 'Summerhill East', 'Chinatown', 'Grange Park', 'Kensington Market', 'Agincourt North', \"L'Amoreaux East\", 'Milliken', 'Steeles East', 'Deer Park', 'Forest Hill SE', 'Rathnelly', 'South Hill', 'Summerhill West', 'CN Tower', 'Bathurst Quay', 'Island airport', 'Harbourfront West', 'King and Spadina', 'Railway Lands', 'South Niagara', 'Humber Bay Shores', 'Mimico South', 'New Toronto', 'Albion Gardens', 'Beaumond Heights', 'Humbergate', 'Jamestown', 'Mount Olive', 'Silverstone', 'South Steeles', 'Thistletown', \"L'Amoreaux West\", 'Steeles West', 'Rosedale', 'Stn A PO Boxes 25 The Esplanade', 'Alderwood', 'Long Branch', 'Northwest', 'Upper Rouge', 'Cabbagetown', 'St. James Town', 'First Canadian Place', 'Underground city', 'The Kingsway', 'Montgomery Road', 'Old Mill North', 'Church and Wellesley', 'Business reply mail Processing Centre969 Eastern', 'Humber Bay', \"King's Mill Park\", 'Kingsway Park South East', 'Mimico NE', 'Old Mill South', 'The Queensway East', 'Royal York South East', 'Sunnylea', 'Kingsway Park South West', 'Mimico NW', 'The Queensway West', 'Royal York South West', 'South of Bloor']\n"
     ]
    }
   ],
   "source": [
    "Postcode = []\n",
    "Borough = []\n",
    "Neighborhood = []\n",
    "\n",
    "for tr in table.find_all('tr'):\n",
    "    counter = 1\n",
    "    var1 = -1\n",
    "    var2 = -1\n",
    "    var3 = -1\n",
    "    \n",
    "    for td in tr.find_all('td'):\n",
    "        if counter == 1: \n",
    "            var1 = td.text\n",
    "        if counter == 2: \n",
    "            var2 = td.text\n",
    "            tag2 = td.find('a')\n",
    "        if counter == 3: \n",
    "            var3 = str(td.text).strip()\n",
    "            tag3 = td.find('a')          \n",
    "        counter +=1\n",
    "\n",
    "    if(var2 == -1 or var2 == \"Not assigned\"):\n",
    "        continue\n",
    "        \n",
    "    if var3 == 'Not assigned':\n",
    "        var3 = var2 # clone Borough's value if no value to Neighborhood\n",
    "    else:\n",
    "        var3 = var3\n",
    "        \n",
    "    Postcode.append(var1)\n",
    "    Borough.append(var2)\n",
    "    Neighborhood.append(var3)\n",
    "\n",
    "    \n",
    "print(Postcode)\n",
    "print(Borough)\n",
    "print(Neighborhood)"
   ]
  },
  {
   "cell_type": "code",
   "execution_count": 4,
   "metadata": {},
   "outputs": [
    {
     "name": "stdout",
     "output_type": "stream",
     "text": [
      "Unique postcode: 103\n"
     ]
    }
   ],
   "source": [
    "n_postcode = set(Postcode)\n",
    "print('Unique postcode:', len(n_postcode))\n",
    "Postcode2 = []\n",
    "Borough2 = []\n",
    "Neighborhood2 = []\n",
    "\n",
    "for pc in n_postcode:\n",
    "    var1 = ''; var2 = ''; var3 = ''; \n",
    "    for index, element in enumerate(Postcode):\n",
    "        if pc == element:\n",
    "            var1 = element;\n",
    "            var2 = Borough[index]\n",
    "            if var3 == '': \n",
    "                var3 = Neighborhood[index]\n",
    "            else:\n",
    "                var3 = var3 + ', ' + Neighborhood[index]\n",
    "    Postcode2.append(var1)\n",
    "    Borough2.append(var2)\n",
    "    Neighborhood2.append(var3)"
   ]
  },
  {
   "cell_type": "code",
   "execution_count": 5,
   "metadata": {},
   "outputs": [
    {
     "data": {
      "text/html": [
       "<div>\n",
       "<style scoped>\n",
       "    .dataframe tbody tr th:only-of-type {\n",
       "        vertical-align: middle;\n",
       "    }\n",
       "\n",
       "    .dataframe tbody tr th {\n",
       "        vertical-align: top;\n",
       "    }\n",
       "\n",
       "    .dataframe thead th {\n",
       "        text-align: right;\n",
       "    }\n",
       "</style>\n",
       "<table border=\"1\" class=\"dataframe\">\n",
       "  <thead>\n",
       "    <tr style=\"text-align: right;\">\n",
       "      <th></th>\n",
       "      <th>Postcode</th>\n",
       "      <th>Borough</th>\n",
       "      <th>Neighborhood</th>\n",
       "    </tr>\n",
       "  </thead>\n",
       "  <tbody>\n",
       "    <tr>\n",
       "      <th>0</th>\n",
       "      <td>M5K</td>\n",
       "      <td>Downtown Toronto</td>\n",
       "      <td>Design Exchange, Toronto Dominion Centre</td>\n",
       "    </tr>\n",
       "    <tr>\n",
       "      <th>1</th>\n",
       "      <td>M5M</td>\n",
       "      <td>North York</td>\n",
       "      <td>Bedford Park, Lawrence Manor East</td>\n",
       "    </tr>\n",
       "    <tr>\n",
       "      <th>2</th>\n",
       "      <td>M4L</td>\n",
       "      <td>East Toronto</td>\n",
       "      <td>The Beaches West, India Bazaar</td>\n",
       "    </tr>\n",
       "    <tr>\n",
       "      <th>3</th>\n",
       "      <td>M5P</td>\n",
       "      <td>Central Toronto</td>\n",
       "      <td>Forest Hill North, Forest Hill West</td>\n",
       "    </tr>\n",
       "    <tr>\n",
       "      <th>4</th>\n",
       "      <td>M3B</td>\n",
       "      <td>North York</td>\n",
       "      <td>Don Mills North</td>\n",
       "    </tr>\n",
       "    <tr>\n",
       "      <th>5</th>\n",
       "      <td>M6E</td>\n",
       "      <td>York</td>\n",
       "      <td>Caledonia-Fairbanks</td>\n",
       "    </tr>\n",
       "    <tr>\n",
       "      <th>6</th>\n",
       "      <td>M4M</td>\n",
       "      <td>East Toronto</td>\n",
       "      <td>Studio District</td>\n",
       "    </tr>\n",
       "    <tr>\n",
       "      <th>7</th>\n",
       "      <td>M1K</td>\n",
       "      <td>Scarborough</td>\n",
       "      <td>East Birchmount Park, Ionview, Kennedy Park</td>\n",
       "    </tr>\n",
       "    <tr>\n",
       "      <th>8</th>\n",
       "      <td>M1V</td>\n",
       "      <td>Scarborough</td>\n",
       "      <td>Agincourt North, L'Amoreaux East, Milliken, St...</td>\n",
       "    </tr>\n",
       "    <tr>\n",
       "      <th>9</th>\n",
       "      <td>M3H</td>\n",
       "      <td>North York</td>\n",
       "      <td>Bathurst Manor, Downsview North, Wilson Heights</td>\n",
       "    </tr>\n",
       "    <tr>\n",
       "      <th>10</th>\n",
       "      <td>M8W</td>\n",
       "      <td>Etobicoke</td>\n",
       "      <td>Alderwood, Long Branch</td>\n",
       "    </tr>\n",
       "  </tbody>\n",
       "</table>\n",
       "</div>"
      ],
      "text/plain": [
       "   Postcode           Borough  \\\n",
       "0       M5K  Downtown Toronto   \n",
       "1       M5M        North York   \n",
       "2       M4L      East Toronto   \n",
       "3       M5P   Central Toronto   \n",
       "4       M3B        North York   \n",
       "5       M6E              York   \n",
       "6       M4M      East Toronto   \n",
       "7       M1K       Scarborough   \n",
       "8       M1V       Scarborough   \n",
       "9       M3H        North York   \n",
       "10      M8W         Etobicoke   \n",
       "\n",
       "                                         Neighborhood  \n",
       "0            Design Exchange, Toronto Dominion Centre  \n",
       "1                   Bedford Park, Lawrence Manor East  \n",
       "2                      The Beaches West, India Bazaar  \n",
       "3                 Forest Hill North, Forest Hill West  \n",
       "4                                     Don Mills North  \n",
       "5                                 Caledonia-Fairbanks  \n",
       "6                                     Studio District  \n",
       "7         East Birchmount Park, Ionview, Kennedy Park  \n",
       "8   Agincourt North, L'Amoreaux East, Milliken, St...  \n",
       "9     Bathurst Manor, Downsview North, Wilson Heights  \n",
       "10                             Alderwood, Long Branch  "
      ]
     },
     "execution_count": 5,
     "metadata": {},
     "output_type": "execute_result"
    }
   ],
   "source": [
    "dic = {'Postcode':Postcode2, 'Borough':Borough2, 'Neighborhood':Neighborhood2}\n",
    "df_toronto = pd.DataFrame.from_dict(dic)\n",
    "df_toronto.to_csv('df_toronto.csv')\n",
    "df_toronto.head(11)"
   ]
  },
  {
   "cell_type": "code",
   "execution_count": 6,
   "metadata": {},
   "outputs": [
    {
     "data": {
      "text/plain": [
       "(103, 3)"
      ]
     },
     "execution_count": 6,
     "metadata": {},
     "output_type": "execute_result"
    }
   ],
   "source": [
    "df_toronto.shape"
   ]
  },
  {
   "cell_type": "code",
   "execution_count": null,
   "metadata": {},
   "outputs": [],
   "source": []
  }
 ],
 "metadata": {
  "kernelspec": {
   "display_name": "Python 3",
   "language": "python",
   "name": "python3"
  },
  "language_info": {
   "codemirror_mode": {
    "name": "ipython",
    "version": 3
   },
   "file_extension": ".py",
   "mimetype": "text/x-python",
   "name": "python",
   "nbconvert_exporter": "python",
   "pygments_lexer": "ipython3",
   "version": "3.7.0"
  }
 },
 "nbformat": 4,
 "nbformat_minor": 2
}
